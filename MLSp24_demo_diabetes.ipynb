{
  "cells": [
    {
      "cell_type": "markdown",
      "metadata": {
        "id": "view-in-github",
        "colab_type": "text"
      },
      "source": [
        "<a href=\"https://colab.research.google.com/github/lutherleo/MLClass/blob/main/MLSp24_demo_diabetes.ipynb\" target=\"_parent\"><img src=\"https://colab.research.google.com/assets/colab-badge.svg\" alt=\"Open In Colab\"/></a>"
      ]
    },
    {
      "cell_type": "markdown",
      "metadata": {
        "id": "DXolYgnBy3mb"
      },
      "source": [
        "# Demo:  Predicting Diabetes Progression using Mulitple Linear Regression"
      ]
    },
    {
      "cell_type": "markdown",
      "metadata": {
        "id": "N1udZYN1y3mc"
      },
      "source": [
        "In this demo, you will learn how to:\n",
        "* Fit multiple linear regression models, by hand and using Python's Scikit-Learn package.  \n",
        "* Split data into training and test set.\n",
        "* Manipulate and visualize multivariable arrays.\n",
        "\n",
        "We first load the packages as usual."
      ]
    },
    {
      "cell_type": "code",
      "execution_count": null,
      "metadata": {
        "id": "_8aSS9rPy3md"
      },
      "outputs": [],
      "source": [
        "import numpy as np\n",
        "import matplotlib\n",
        "import matplotlib.pyplot as plt\n",
        "%matplotlib inline"
      ]
    },
    {
      "cell_type": "markdown",
      "metadata": {
        "id": "FsVYxV2Vy3me"
      },
      "source": [
        "We will also load a few modules from [scikit-learn](https://scikit-learn.org/stable/), which is one of the most popular machine learning libraries in Python that does not focus specifically on neural nets and deep learning. Using the libary is a bit overkill at this point, but I want you to get some practice because it will be very useful later in the course, and for your mini-projects."
      ]
    },
    {
      "cell_type": "code",
      "execution_count": null,
      "metadata": {
        "id": "1uMDI1w8y3me"
      },
      "outputs": [],
      "source": [
        "from sklearn import datasets, linear_model"
      ]
    },
    {
      "cell_type": "markdown",
      "metadata": {
        "id": "nQj7GDyuy3mf"
      },
      "source": [
        "## Diabetes Data Example\n",
        "To illustrate the concepts, we load a well-known diabetes data set.  This dataset can be downloaded in raw form from [https://www4.stat.ncsu.edu/~boos/var.select/diabetes.html](https://www4.stat.ncsu.edu/~boos/var.select/diabetes.html). However, it is also included in the `sklearn.datasets` module, which prepackages a number of benchmark datasets for easy experimentation. It can be loaded as follows:"
      ]
    },
    {
      "cell_type": "code",
      "execution_count": null,
      "metadata": {
        "id": "1z0hriLSy3mf"
      },
      "outputs": [],
      "source": [
        "# Load the diabetes dataset\n",
        "diabetes = datasets.load_diabetes()\n",
        "X = diabetes.data\n",
        "y = diabetes.target"
      ]
    },
    {
      "cell_type": "markdown",
      "metadata": {
        "id": "JQwlQCIky3mg"
      },
      "source": [
        "It's always good to check what type of objects we have loaded in. You can confirm using the `type` function that our data is preloaded into `numpy` arrays, which is how we want it."
      ]
    },
    {
      "cell_type": "code",
      "execution_count": null,
      "metadata": {
        "id": "CKy05dxzy3mh",
        "colab": {
          "base_uri": "https://localhost:8080/"
        },
        "outputId": "02ad5af6-8526-4238-aba2-166f7296bff4"
      },
      "outputs": [
        {
          "output_type": "execute_result",
          "data": {
            "text/plain": [
              "numpy.ndarray"
            ]
          },
          "metadata": {},
          "execution_count": 4
        }
      ],
      "source": [
        "type(X)"
      ]
    },
    {
      "cell_type": "markdown",
      "metadata": {
        "id": "okxTzTW8y3mi"
      },
      "source": [
        "The predictor variables are **age**, **sex**, **body mass index**, **average blood pressure**, and **six blood serum measurements** (think iron, cholesterol, lipid levels, etc.). Each corresponds to a column in the data matrix `X`. Note that these columns have been *mean centered* and had their *variance normalized* (i.e. scaled). This will not effect your linear regression model at all, but it's good to know."
      ]
    },
    {
      "cell_type": "markdown",
      "metadata": {
        "id": "SX6mSVEny3mi"
      },
      "source": [
        "When you look at the first 5 entries of the **age** column, we don't see age numbers we might expect:"
      ]
    },
    {
      "cell_type": "code",
      "execution_count": null,
      "metadata": {
        "scrolled": true,
        "id": "3Losc8LLy3mj",
        "colab": {
          "base_uri": "https://localhost:8080/"
        },
        "outputId": "140064ed-3631-4e35-f516-5a1bbb9c9715"
      },
      "outputs": [
        {
          "output_type": "execute_result",
          "data": {
            "text/plain": [
              "array([ 0.03807591, -0.00188202,  0.08529891, -0.08906294,  0.00538306])"
            ]
          },
          "metadata": {},
          "execution_count": 5
        }
      ],
      "source": [
        "X[0:5,0]"
      ]
    },
    {
      "cell_type": "markdown",
      "metadata": {
        "id": "9Pklc67_y3mk"
      },
      "source": [
        "And when you look at the first 5 entries of the **sex** column, we don't see binary categories like 1 for female, 2 for male. We see real numbers."
      ]
    },
    {
      "cell_type": "code",
      "execution_count": null,
      "metadata": {
        "scrolled": true,
        "id": "YOK5CNL3y3mk",
        "colab": {
          "base_uri": "https://localhost:8080/"
        },
        "outputId": "d225373a-7bb7-42c7-a2ec-13f3141d3a85"
      },
      "outputs": [
        {
          "output_type": "execute_result",
          "data": {
            "text/plain": [
              "array([ 0.05068012, -0.04464164,  0.05068012, -0.04464164, -0.04464164])"
            ]
          },
          "metadata": {},
          "execution_count": 6
        }
      ],
      "source": [
        "X[0:5,1]"
      ]
    },
    {
      "cell_type": "markdown",
      "metadata": {
        "id": "VTI9VrH3y3mk"
      },
      "source": [
        "**NOTE**: This is one reason to be cautious about using built in datasets. Often a lot of information is lost during preprocessing which makes it harder to reason about the data than if you were working with the raw files. This is just a simple teaching demo, so we don't care for today, but **keep that in mind** when downloading data for your projects."
      ]
    },
    {
      "cell_type": "markdown",
      "metadata": {
        "id": "RLSFzyMpy3ml"
      },
      "source": [
        "The target values `y` represent a \"quantitative measure of diabetes disease progression\" that we wish to predict. The exact meaning of this measure seems to have been lost in data translation, but we will work with it anyway.\n",
        "\n",
        "The number of attributes and samples are computed from the shape:"
      ]
    },
    {
      "cell_type": "code",
      "execution_count": null,
      "metadata": {
        "id": "wJQzMfqWy3ml",
        "colab": {
          "base_uri": "https://localhost:8080/"
        },
        "outputId": "eec96d3e-041a-419f-9353-49ff7255a00f"
      },
      "outputs": [
        {
          "output_type": "stream",
          "name": "stdout",
          "text": [
            "num samples=442 num attributes=10\n"
          ]
        }
      ],
      "source": [
        "nsamp, natt = X.shape\n",
        "print(\"num samples=\"+str(nsamp)+\" num attributes=\"+str(natt))"
      ]
    },
    {
      "cell_type": "markdown",
      "metadata": {
        "id": "kfqN_srjy3mm"
      },
      "source": [
        "## Using Simple Linear Regression for Each Feature Individually\n",
        "\n",
        "As a first attempt to predict diabetes progression, we could try *one attribute at a time*.  That is, for each attribute $x_k$, we could attempt to fit a simple linear regression model:\n",
        "$$ y \\approx \\beta_{0,k} + \\beta_{1,k}x_k$$\n",
        "where $\\beta_{0,k}$ and $\\beta_{1,k}$ are the coefficients in the simple linear regression model using only the attribute $x_k$.\n",
        "\n",
        "The following code computes the $\\ell_2$ loss for each variable $k$ as well as the coefficients in the linear model, $\\beta_{0,k}$ and $\\beta_{1,k}$"
      ]
    },
    {
      "cell_type": "code",
      "execution_count": null,
      "metadata": {
        "scrolled": false,
        "id": "y1mUQbSLy3mm",
        "colab": {
          "base_uri": "https://localhost:8080/"
        },
        "outputId": "f55cc5b8-db60-4fb9-dd6d-4f4bf2dac169"
      },
      "outputs": [
        {
          "output_type": "stream",
          "name": "stdout",
          "text": [
            "0 loss=2.53e+06 beta0=152.13348416289605 beta1=304.1830745282947\n",
            "1 loss=2.62e+06 beta0=152.13348416289594 beta1=69.71535567841465\n",
            "2 loss=1.72e+06 beta0=152.1334841628967 beta1=949.435260383949\n",
            "3 loss=2.11e+06 beta0=152.13348416289585 beta1=714.7416437042876\n",
            "4 loss=2.50e+06 beta0=152.13348416289597 beta1=343.2544518889643\n",
            "5 loss=2.54e+06 beta0=152.1334841628959 beta1=281.7845933524592\n",
            "6 loss=2.21e+06 beta0=152.13348416289566 beta1=-639.1452793225127\n",
            "7 loss=2.14e+06 beta0=152.13348416289568 beta1=696.8830300922431\n",
            "8 loss=1.78e+06 beta0=152.13348416289628 beta1=916.1387228150982\n",
            "9 loss=2.24e+06 beta0=152.13348416289614 beta1=619.2228206843339\n"
          ]
        }
      ],
      "source": [
        "ym = np.mean(y)\n",
        "losses = np.zeros(natt)\n",
        "beta0 = np.zeros(natt)\n",
        "beta1 = np.zeros(natt)\n",
        "for k in range(natt):\n",
        "    xm = np.mean(X[:,k])\n",
        "    sxy = np.mean((X[:,k]-xm)*(y-ym))\n",
        "    sxx = np.mean((X[:,k]-xm)**2)\n",
        "    beta1[k] = sxy/sxx\n",
        "    beta0[k] = ym - beta1[k]*xm\n",
        "    errs = y - beta1[k]*X[:,k] - beta0[k]\n",
        "    losses[k] = np.sum(errs**2)\n",
        "\n",
        "    print(str(k)+\" loss=\"+\"{:.2e}\".format(losses[k])+\" beta0=\"+str(beta0[k])+\" beta1=\"+str(beta1[k]))\n"
      ]
    },
    {
      "cell_type": "markdown",
      "metadata": {
        "id": "cK7Zab1Ay3mm"
      },
      "source": [
        "**Test yourself:** Why are all the `beta0` values the same, no matter what predictor we use? This is not a bug!"
      ]
    },
    {
      "cell_type": "markdown",
      "metadata": {
        "id": "WzcRgNzXy3mm"
      },
      "source": [
        "We see that the best prediction is given by BMI index, with loss 1.72e+06. If you convert this to an $R^2$ value, as described in class, we get a value of $R^2 = .344$, which on a scale from $[0,1]$ does not indicate too strong of a fit."
      ]
    },
    {
      "cell_type": "code",
      "execution_count": null,
      "metadata": {
        "id": "pgOl70kwy3mn",
        "colab": {
          "base_uri": "https://localhost:8080/"
        },
        "outputId": "dd2eef2f-951e-4a61-9e56-4c72c67afb0b"
      },
      "outputs": [
        {
          "output_type": "stream",
          "name": "stdout",
          "text": [
            "Rsqr=0.344\n"
          ]
        }
      ],
      "source": [
        "syy = np.mean((y-ym)**2)\n",
        "rsqr = 1 - np.min(losses)/(nsamp*syy)\n",
        "print(\"Rsqr=\"+\"{:.3}\".format(rsqr))"
      ]
    },
    {
      "cell_type": "markdown",
      "metadata": {
        "id": "Z_MyJYcHy3mn"
      },
      "source": [
        "We can see this somewhat poor fit in a scatter plot as well where there is significant variation from the regression line."
      ]
    },
    {
      "cell_type": "code",
      "execution_count": null,
      "metadata": {
        "scrolled": true,
        "id": "x02D_I8Xy3mo",
        "colab": {
          "base_uri": "https://localhost:8080/",
          "height": 265
        },
        "outputId": "9e4cfd2d-5f75-487f-af5d-fb91decb24b1"
      },
      "outputs": [
        {
          "output_type": "display_data",
          "data": {
            "text/plain": [
              "<Figure size 432x288 with 1 Axes>"
            ],
            "image/png": "[encoded data removed]"
          },
          "metadata": {
            "needs_background": "light"
          }
        }
      ],
      "source": [
        "# Find the index of the single variable with the best squared loss\n",
        "imax = np.argmin(losses)\n",
        "\n",
        "# Regression line over the range of x values\n",
        "xmin = np.min(X[:,imax])\n",
        "xmax = np.max(X[:,imax])\n",
        "ymin = beta0[imax] + beta1[imax]*xmin\n",
        "ymax = beta0[imax] + beta1[imax]*xmax\n",
        "# this is a different approach to plotting a regression line then we used in the last demo\n",
        "plt.plot([xmin,xmax], [ymin,ymax], 'r-', linewidth=3)\n",
        "\n",
        "# Scatter plot of points\n",
        "plt.scatter(X[:,imax],y)\n",
        "plt.grid()"
      ]
    },
    {
      "cell_type": "code",
      "execution_count": null,
      "metadata": {
        "id": "HJM0FzOyy3mo",
        "colab": {
          "base_uri": "https://localhost:8080/"
        },
        "outputId": "24928028-e55f-4038-8157-333f1e1a9f06"
      },
      "outputs": [
        {
          "output_type": "execute_result",
          "data": {
            "text/plain": [
              "235"
            ]
          },
          "metadata": {},
          "execution_count": 11
        }
      ],
      "source": [
        "np.sum(X[:,1] <0)"
      ]
    },
    {
      "cell_type": "markdown",
      "metadata": {
        "id": "XvzWOLFyy3mo"
      },
      "source": [
        "Note that the calculations above to find the simple linear regression parameters could have been done without a for-loop as follows:"
      ]
    },
    {
      "cell_type": "code",
      "execution_count": null,
      "metadata": {
        "id": "L-bCXCNRy3mo"
      },
      "outputs": [],
      "source": [
        "# Remove the means\n",
        "ym = np.mean(y)\n",
        "y1 = y-ym  # a column vecotor each minus mean\n",
        "Xm = np.mean(X,axis=0) # averaging over column, resulting a row vector of dimension natt\n",
        "X1 = X - Xm[None,:] # minus the same mean in each column\n",
        "\n",
        "# Compute the correlations per features\n",
        "Sxx = np.mean(X1**2,axis=0) #a row vector with each element indicating the variance of one attribute\n",
        "Sxy = np.mean(X1*y1[:,None],axis=0) #a row vector with each element indicating the covarance on one attribute to the targer\n",
        "\n",
        "# Compute the coefficients and losses per feature\n",
        "beta1 = Sxy/Sxx # element wise division, resulting a row vector containing  beta1 for each attribute\n",
        "beta0 = ym - beta1*Xm # element wise multiplication, resulting a row vector containing beta0 for each attribute\n",
        "errs = ((X*beta1) + beta0) - y[:,None] # results in a matrix where every column contains the residuals for predictor k\n",
        "losses = np.sum(errs**2,axis=0) # sums up the squared size of the residuals across each column"
      ]
    },
    {
      "cell_type": "markdown",
      "metadata": {
        "id": "lYtibg9sy3mp"
      },
      "source": [
        "Now let us see whether we get the same result:"
      ]
    },
    {
      "cell_type": "code",
      "execution_count": null,
      "metadata": {
        "scrolled": true,
        "id": "qVryAMc0y3mp",
        "colab": {
          "base_uri": "https://localhost:8080/"
        },
        "outputId": "6b3cb8a6-229d-4ecb-da43-c07176f9cf3c"
      },
      "outputs": [
        {
          "output_type": "stream",
          "name": "stdout",
          "text": [
            "0 loss=2.53e+06 beta0=152.13348416289605 beta1=304.1830745282949\n",
            "1 loss=2.62e+06 beta0=152.13348416289594 beta1=69.71535567841437\n",
            "2 loss=1.72e+06 beta0=152.1334841628967 beta1=949.4352603839499\n",
            "3 loss=2.11e+06 beta0=152.13348416289585 beta1=714.7416437042887\n",
            "4 loss=2.50e+06 beta0=152.13348416289597 beta1=343.2544518889645\n",
            "5 loss=2.54e+06 beta0=152.1334841628959 beta1=281.7845933524593\n",
            "6 loss=2.21e+06 beta0=152.13348416289566 beta1=-639.145279322514\n",
            "7 loss=2.14e+06 beta0=152.13348416289568 beta1=696.8830300922432\n",
            "8 loss=1.78e+06 beta0=152.13348416289628 beta1=916.1387228150995\n",
            "9 loss=2.24e+06 beta0=152.13348416289614 beta1=619.2228206843332\n"
          ]
        }
      ],
      "source": [
        "for k in range(natt):\n",
        "    print(str(k)+\" loss=\"+\"{:.2e}\".format(losses[k])+\" beta0=\"+str(beta0[k])+\" beta1=\"+str(beta1[k]))"
      ]
    },
    {
      "cell_type": "markdown",
      "metadata": {
        "id": "0VYb2VRty3mq"
      },
      "source": [
        "## Improvements with a Multiple Variable Linear Model\n",
        "\n",
        "One possible way to try to improve the fit is to use multiple variables at the same time.\n",
        "\n",
        "We can manually compute the regression coefficients using the least-squares matrix formula given in class.\n",
        "\n",
        "To compute the coefficients manually, we first append an all ones columns onto `X` using the `ones` command and `hstack`.  Note that after we do this, `X` will have 11 columns -- one more column that original data matrix."
      ]
    },
    {
      "cell_type": "code",
      "execution_count": null,
      "metadata": {
        "scrolled": true,
        "id": "ULztFiO8y3mq",
        "colab": {
          "base_uri": "https://localhost:8080/"
        },
        "outputId": "65439426-ceb8-4e45-cfd6-3fad6cc611b3"
      },
      "outputs": [
        {
          "output_type": "execute_result",
          "data": {
            "text/plain": [
              "(442, 11)"
            ]
          },
          "metadata": {},
          "execution_count": 14
        }
      ],
      "source": [
        "ones = np.ones((nsamp,1))\n",
        "X_orig = X\n",
        "X = np.hstack((ones,X_orig))\n",
        "X.shape"
      ]
    },
    {
      "cell_type": "markdown",
      "metadata": {
        "id": "IJL19s6Vy3mr"
      },
      "source": [
        "Next we need to solve $\\min_{\\mathbf{\\beta}}\\|\\mathbf{y} - \\mathbf{X\\beta}\\|_2^2$. The most obvious way to do so is via the direct matrix equation derived in class: $\\mathbf{\\beta}^* = (\\mathbf{X}^T\\mathbf{X})^{-1}\\mathbf{X}^T\\mathbf{y}$."
      ]
    },
    {
      "cell_type": "code",
      "execution_count": null,
      "metadata": {
        "id": "1m5kVE7Wy3mr",
        "colab": {
          "base_uri": "https://localhost:8080/"
        },
        "outputId": "03d674d6-4258-4ab6-918a-8e0f4e768199"
      },
      "outputs": [
        {
          "output_type": "stream",
          "name": "stdout",
          "text": [
            "[ 152.13348416  -10.01219782 -239.81908937  519.83978679  324.39042769\n",
            " -792.18416163  476.74583782  101.04457032  177.06417623  751.27932109\n",
            "   67.62538639]\n"
          ]
        }
      ],
      "source": [
        "Xt = np.transpose(X)\n",
        "beta= np.linalg.inv(Xt@X)@Xt@y\n",
        "print(beta)"
      ]
    },
    {
      "cell_type": "markdown",
      "metadata": {
        "id": "eyhwT9MKy3mr"
      },
      "source": [
        "Note that `beta[0]` is the value of the intercept from the regression fit."
      ]
    },
    {
      "cell_type": "markdown",
      "metadata": {
        "id": "g6NFBW7Ny3ms"
      },
      "source": [
        "An often slightly faster alternative is to use the `lstsq` method, which solves $\\min_{\\mathbf{\\beta}}\\|\\mathbf{y} - \\mathbf{X\\beta}\\|_2^2$ using a QR decomposition. This should find the exact same least-squares fit. You might get a warning when you run `lstqr` about some defaults changing in the future. You can safetly ignore."
      ]
    },
    {
      "cell_type": "code",
      "execution_count": null,
      "metadata": {
        "scrolled": true,
        "id": "Pp4VMI7ry3ms",
        "colab": {
          "base_uri": "https://localhost:8080/"
        },
        "outputId": "6bb281cc-51da-4a8a-ce2f-cb154fd0f00f"
      },
      "outputs": [
        {
          "output_type": "stream",
          "name": "stdout",
          "text": [
            "[ 152.13348416  -10.01219782 -239.81908937  519.83978679  324.39042769\n",
            " -792.18416163  476.74583782  101.04457032  177.06417623  751.27932109\n",
            "   67.62538639]\n"
          ]
        },
        {
          "output_type": "stream",
          "name": "stderr",
          "text": [
            "/usr/local/lib/python3.7/dist-packages/ipykernel_launcher.py:1: FutureWarning: `rcond` parameter will change to the default of machine precision times ``max(M, N)`` where M and N are the input matrix dimensions.\n",
            "To use the future default and silence this warning we advise to pass `rcond=None`, to keep using the old, explicitly pass `rcond=-1`.\n",
            "  \"\"\"Entry point for launching an IPython kernel.\n"
          ]
        }
      ],
      "source": [
        "out = np.linalg.lstsq(X,y)\n",
        "beta = out[0]\n",
        "print(beta)"
      ]
    },
    {
      "cell_type": "markdown",
      "metadata": {
        "id": "XVnDyH2hy3ms"
      },
      "source": [
        "Finally, for very large problems (many examples and/or features), *iterative* methods can offer a much faster approach to solving $\\min_{\\mathbf{\\beta}}\\|\\mathbf{y} - \\mathbf{X\\beta}\\|_2^2$. There are several options avialable in the `scipy` library, including the popular LSQR method."
      ]
    },
    {
      "cell_type": "code",
      "execution_count": null,
      "metadata": {
        "id": "FQb93zFuy3mt"
      },
      "outputs": [],
      "source": [
        "import scipy as sp"
      ]
    },
    {
      "cell_type": "code",
      "execution_count": null,
      "metadata": {
        "id": "GJKlT7dAy3mt",
        "colab": {
          "base_uri": "https://localhost:8080/"
        },
        "outputId": "9d69e680-07b7-4fb0-a67e-d89262848069"
      },
      "outputs": [
        {
          "output_type": "stream",
          "name": "stdout",
          "text": [
            "[ 152.13348416  -10.01219324 -239.81908542  519.8397932   324.39043343\n",
            " -792.18415438  476.74584526  101.04456435  177.06418529  751.27932909\n",
            "   67.6253932 ]\n"
          ]
        }
      ],
      "source": [
        "out = sp.sparse.linalg.lsqr(X,y)\n",
        "beta = out[0]\n",
        "print(beta)"
      ]
    },
    {
      "cell_type": "markdown",
      "metadata": {
        "id": "Ms8FARI5y3mt"
      },
      "source": [
        "Hopefully you got the same values of $\\mathbf{\\beta}$ no matter which algorithm you used. The differences are negligble because this demo problem is so small, but if you ever want to compare runtimes head-to-head, you can use the `time` library to time different operations. Here's an example that times the direct approach:"
      ]
    },
    {
      "cell_type": "code",
      "execution_count": null,
      "metadata": {
        "id": "yWB-TSYxy3mt",
        "colab": {
          "base_uri": "https://localhost:8080/"
        },
        "outputId": "718945e0-8fc3-4931-e6a0-e57949aa9abf"
      },
      "outputs": [
        {
          "output_type": "stream",
          "name": "stdout",
          "text": [
            "direct matrix computation time: 0.00027251243591308594 seconds\n"
          ]
        }
      ],
      "source": [
        "import time\n",
        "t = time.time()\n",
        "beta= np.linalg.inv(Xt@X)@Xt@y\n",
        "elapsed = time.time() - t\n",
        "print(\"direct matrix computation time: \" + str(elapsed) + \" seconds\")"
      ]
    },
    {
      "cell_type": "markdown",
      "metadata": {
        "id": "p4gER5SKy3mt"
      },
      "source": [
        "Now let's compute the loss for our muliple variable model. Be careful with ndarrays dimensions! Always check what you're working with by running commands like `beta.shape`. Or multiplications may not behave as expected."
      ]
    },
    {
      "cell_type": "code",
      "source": [
        "print(X.shape)\n",
        "print(beta.shape)"
      ],
      "metadata": {
        "id": "0cqogKbv5vDV",
        "colab": {
          "base_uri": "https://localhost:8080/"
        },
        "outputId": "92104a7b-a1c4-4750-9c83-fad3edd1df4d"
      },
      "execution_count": null,
      "outputs": [
        {
          "output_type": "stream",
          "name": "stdout",
          "text": [
            "(442, 11)\n",
            "(11,)\n"
          ]
        }
      ]
    },
    {
      "cell_type": "code",
      "execution_count": null,
      "metadata": {
        "scrolled": true,
        "id": "4FdtHPley3mu",
        "colab": {
          "base_uri": "https://localhost:8080/"
        },
        "outputId": "4d71e1a2-9e08-4ed9-d27b-6f3fe34d2d35"
      },
      "outputs": [
        {
          "output_type": "stream",
          "name": "stdout",
          "text": [
            "(442,)\n",
            "multiple variable loss=1.26e+06\n"
          ]
        }
      ],
      "source": [
        "yp = X@beta\n",
        "errs = (y - yp)\n",
        "print(errs.shape)\n",
        "lossm = np.sum(errs**2)\n",
        "\n",
        "print(\"multiple variable loss=\"+\"{:.2e}\".format(lossm))"
      ]
    },
    {
      "cell_type": "markdown",
      "metadata": {
        "id": "573TRkyry3mv"
      },
      "source": [
        "Note that this loss is about $30\\%$ lower than what we acheived with the best single variable linear regression, which is significant. Let's also normalize the loss to get an $R^2$ value, which we can compare to the value of $34\\%$ we obtained earlier. Higher $R^2$ is better."
      ]
    },
    {
      "cell_type": "code",
      "execution_count": null,
      "metadata": {
        "id": "bmDf1mVQy3mv",
        "colab": {
          "base_uri": "https://localhost:8080/"
        },
        "outputId": "f352588f-8e63-4eb9-8ce3-5cfc23530e81"
      },
      "outputs": [
        {
          "output_type": "execute_result",
          "data": {
            "text/plain": [
              "0.5177494254132934"
            ]
          },
          "metadata": {},
          "execution_count": 22
        }
      ],
      "source": [
        "rsqr = 1 - lossm/(nsamp*syy)\n",
        "rsqr"
      ]
    },
    {
      "cell_type": "markdown",
      "metadata": {
        "id": "keqgb751y3mv"
      },
      "source": [
        "## Using built in sci-kit learn model\n",
        "\n",
        "We can also fit the multiple variable linear regression model using Sci-kit Learn's built in functionality. As mentioned, this is a bit overkill at this point, but it's good to see because you might use other built in models from `sklearn` later in the course. The disadvantage is that this approach leaves everything inside a \"black-box\". For example, how do you think this method is solving the required least-squares optimization problem? Using an iterative method like `lsqr`? Or a direct method?"
      ]
    },
    {
      "cell_type": "markdown",
      "metadata": {
        "id": "MS3Jof-gy3mv"
      },
      "source": [
        "To fit the linear model, we first create a regression object and then fit the data with regression object."
      ]
    },
    {
      "cell_type": "code",
      "execution_count": null,
      "metadata": {
        "id": "yFjUpzePy3mw",
        "colab": {
          "base_uri": "https://localhost:8080/"
        },
        "outputId": "e67ae2d0-4eee-4a2d-d16d-fd7c502b6ecf"
      },
      "outputs": [
        {
          "output_type": "execute_result",
          "data": {
            "text/plain": [
              "LinearRegression()"
            ]
          },
          "metadata": {},
          "execution_count": 23
        }
      ],
      "source": [
        "X = X[:,1:11]\n",
        "regr = linear_model.LinearRegression()\n",
        "regr.fit(X,y)"
      ]
    },
    {
      "cell_type": "markdown",
      "metadata": {
        "id": "qMcCuzg6y3mw"
      },
      "source": [
        "You can see the intercept and other coefficients."
      ]
    },
    {
      "cell_type": "code",
      "execution_count": null,
      "metadata": {
        "id": "w0WMTXNky3mw",
        "colab": {
          "base_uri": "https://localhost:8080/"
        },
        "outputId": "41507acd-6f08-4a0e-c887-906c752a0b08"
      },
      "outputs": [
        {
          "output_type": "execute_result",
          "data": {
            "text/plain": [
              "152.1334841628965"
            ]
          },
          "metadata": {},
          "execution_count": 24
        }
      ],
      "source": [
        "regr.intercept_"
      ]
    },
    {
      "cell_type": "code",
      "execution_count": null,
      "metadata": {
        "scrolled": true,
        "id": "V5DkEfBry3mw",
        "colab": {
          "base_uri": "https://localhost:8080/"
        },
        "outputId": "64566f22-aab9-4638-8ba6-7ff17b195599"
      },
      "outputs": [
        {
          "output_type": "execute_result",
          "data": {
            "text/plain": [
              "array([ -10.01219782, -239.81908937,  519.83978679,  324.39042769,\n",
              "       -792.18416163,  476.74583782,  101.04457032,  177.06417623,\n",
              "        751.27932109,   67.62538639])"
            ]
          },
          "metadata": {},
          "execution_count": 25
        }
      ],
      "source": [
        "regr.coef_"
      ]
    },
    {
      "cell_type": "markdown",
      "metadata": {
        "id": "NbhLwI1qy3mw"
      },
      "source": [
        "We next compute the squared loss by using the `predict` function and you can verify that it's the same as above."
      ]
    },
    {
      "cell_type": "code",
      "execution_count": null,
      "metadata": {
        "id": "RCVFS_PGy3mx",
        "colab": {
          "base_uri": "https://localhost:8080/"
        },
        "outputId": "4f064025-50b1-40a2-9786-66b68ce5cfdc"
      },
      "outputs": [
        {
          "output_type": "stream",
          "name": "stdout",
          "text": [
            "multiple variable loss=1.26e+06\n"
          ]
        }
      ],
      "source": [
        "y_pred = regr.predict(X)\n",
        "lossm = np.linalg.norm(y_pred - y)**2\n",
        "\n",
        "print(\"multiple variable loss=\"+\"{:.2e}\".format(lossm))"
      ]
    }
  ],
  "metadata": {
    "anaconda-cloud": {},
    "kernelspec": {
      "display_name": "Python 3",
      "language": "python",
      "name": "python3"
    },
    "language_info": {
      "codemirror_mode": {
        "name": "ipython",
        "version": 3
      },
      "file_extension": ".py",
      "mimetype": "text/x-python",
      "name": "python",
      "nbconvert_exporter": "python",
      "pygments_lexer": "ipython3",
      "version": "3.7.4"
    },
    "colab": {
      "provenance": [],
      "include_colab_link": true
    }
  },
  "nbformat": 4,
  "nbformat_minor": 0
}