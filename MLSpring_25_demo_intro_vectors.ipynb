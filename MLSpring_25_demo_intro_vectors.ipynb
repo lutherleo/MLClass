{
  "cells": [
    {
      "cell_type": "markdown",
      "metadata": {
        "id": "view-in-github",
        "colab_type": "text"
      },
      "source": [
        "<a href=\"https://colab.research.google.com/github/lutherleo/MLClass/blob/main/MLSpring_25_demo_intro_vectors.ipynb\" target=\"_parent\"><img src=\"https://colab.research.google.com/assets/colab-badge.svg\" alt=\"Open In Colab\"/></a>"
      ]
    },
    {
      "cell_type": "markdown",
      "metadata": {
        "id": "zY1cxYQ_1w3O"
      },
      "source": [
        "# Getting Started with Numpy Vectors\n",
        "\n",
        "The `numpy` package has a number of powerful and fast tools for manipulating vectors.  In this demo, we will illustrate some of the features of the package that will be used throughout the class.  A more complete summary of `python` and `numpy` can be found at:\n",
        "\n",
        "http://cs231n.github.io/python-numpy-tutorial/\n",
        "\n",
        "For this tutorial, we start by importing the Numpy package."
      ]
    },
    {
      "cell_type": "code",
      "execution_count": null,
      "metadata": {
        "id": "CHC7m_Lg1w3R"
      },
      "outputs": [],
      "source": [
        "import numpy as np"
      ]
    },
    {
      "cell_type": "markdown",
      "metadata": {
        "id": "_GYFjfps1w3S"
      },
      "source": [
        "## Creating vectors\n",
        "We can create vectors a number of ways.  We can manually create a vector by specifying the elements from a list.  Note that, unlike MATLAB, there is no difference between a row and column vector.  Also, you have to call the `print` command to print the object."
      ]
    },
    {
      "cell_type": "code",
      "execution_count": null,
      "metadata": {
        "id": "rE3_Zw4a1w3S",
        "colab": {
          "base_uri": "https://localhost:8080/"
        },
        "outputId": "fce98eee-b34f-4d7b-a58d-69fd607911e7"
      },
      "outputs": [
        {
          "output_type": "stream",
          "name": "stdout",
          "text": [
            "[1 2 4]\n"
          ]
        }
      ],
      "source": [
        "x = np.array([1,2,4])\n",
        "print(x)"
      ]
    },
    {
      "cell_type": "markdown",
      "metadata": {
        "id": "NMvV37M51w3S"
      },
      "source": [
        "You can also set through a range of numbers"
      ]
    },
    {
      "cell_type": "code",
      "execution_count": null,
      "metadata": {
        "id": "ieDSRz7c1w3T",
        "colab": {
          "base_uri": "https://localhost:8080/"
        },
        "outputId": "902f718d-a62b-42d4-be91-a72993b9120e"
      },
      "outputs": [
        {
          "output_type": "stream",
          "name": "stdout",
          "text": [
            "x1 = [0 1 2 3 4 5 6 7 8 9]\n",
            "x2 = [2 3 4 5 6]\n"
          ]
        }
      ],
      "source": [
        "x1 = np.arange(10)   # numbers from 0 to 9 (note 10 is NOT included)\n",
        "x2 = np.arange(2,7)  # numbers from 2 to 6\n",
        "print(\"x1 = \"+str(x1))\n",
        "print(\"x2 = \"+str(x2))"
      ]
    },
    {
      "cell_type": "markdown",
      "metadata": {
        "id": "LO0obBI71w3T"
      },
      "source": [
        "You can also use a third `step` argument.  The step does not need to be positive or integer."
      ]
    },
    {
      "cell_type": "code",
      "execution_count": null,
      "metadata": {
        "id": "5dq9v2tk1w3T",
        "colab": {
          "base_uri": "https://localhost:8080/"
        },
        "outputId": "7ac303c9-690c-4a32-a29d-994f06615e74"
      },
      "outputs": [
        {
          "output_type": "stream",
          "name": "stdout",
          "text": [
            "[10 15 20 25 30 35 40 45]\n",
            "[ 0.   2.5  5.   7.5 10. ]\n"
          ]
        }
      ],
      "source": [
        "x1 = np.arange(10,50,5)   # Increments of 5.  Note this ends on 45, not 50\n",
        "print(x1)\n",
        "\n",
        "# Increments of 2.5.  To ensure it includes the value 10, we make the endpoint slightly >10.\n",
        "step = 2.5\n",
        "x2 = np.arange(0,10+.1,step)\n",
        "print(x2)"
      ]
    },
    {
      "cell_type": "markdown",
      "metadata": {
        "id": "4UUwTjfH1w3T"
      },
      "source": [
        "Most operations can be vectorized meaning that the operation is applied to each component."
      ]
    },
    {
      "cell_type": "code",
      "execution_count": null,
      "metadata": {
        "id": "ToI9QUc41w3U",
        "colab": {
          "base_uri": "https://localhost:8080/"
        },
        "outputId": "bed8a6c4-b42e-4cfa-c12d-138f21ac7b01"
      },
      "outputs": [
        {
          "output_type": "stream",
          "name": "stdout",
          "text": [
            "x = [2 3 4 5]\n",
            "y = [ 4  9 16 25]\n",
            "z = [ 4  8 16 32]\n"
          ]
        }
      ],
      "source": [
        "x = np.arange(2,6)\n",
        "y = x**2\n",
        "z = 2**x\n",
        "print(\"x = \" + str(x))\n",
        "print(\"y = \" + str(y))\n",
        "print(\"z = \" + str(z))"
      ]
    },
    {
      "cell_type": "markdown",
      "metadata": {
        "id": "kxV5Djlx1w3U"
      },
      "source": [
        "**Exercise**  Write code to create the following vectors.  Use the `arange` function along with basic mathematical operations.  For the case of `z2` you may need to apply a funcion entrywise.\n",
        "\n",
        "    z1 = [2,4,6,8,10,...,20]  \n",
        "    z2 = [50,40,30,...,10,0,10,20,...,50]\n",
        "    "
      ]
    },
    {
      "cell_type": "markdown",
      "metadata": {
        "id": "HDN5FmD71w3V"
      },
      "source": [
        "In the examples in the labs, we will load the vectors from data files.  We will show how to do this later using the `pandas` package."
      ]
    },
    {
      "cell_type": "markdown",
      "metadata": {
        "id": "bXv2ivpr1w3V"
      },
      "source": [
        "## Plotting vectors\n",
        "The `matplotlib` package has good routines for plotting data and uses a very similar interface as MATLAB.  To load the package use the following commands.  The second line `%matplotlib inline` is only used when running python in `jupyter notebook.`"
      ]
    },
    {
      "cell_type": "code",
      "execution_count": null,
      "metadata": {
        "id": "sdVgyFmC1w3V"
      },
      "outputs": [],
      "source": [
        "import matplotlib.pyplot as plt\n",
        "%matplotlib inline"
      ]
    },
    {
      "cell_type": "markdown",
      "metadata": {
        "id": "UzVMSJVu1w3V"
      },
      "source": [
        "A simple illustration to plot $\\sin(2\\pi(3)t)$ vs. $t$ for $t \\in [0,2]$."
      ]
    },
    {
      "cell_type": "code",
      "execution_count": null,
      "metadata": {
        "scrolled": false,
        "id": "YPHovAuZ1w3V",
        "colab": {
          "base_uri": "https://localhost:8080/",
          "height": 301
        },
        "outputId": "5cf74326-e58b-4d52-a9b8-e538fbc8f11e"
      },
      "outputs": [
        {
          "output_type": "execute_result",
          "data": {
            "text/plain": [
              "Text(0, 0.5, 'sin(2pi ft)')"
            ]
          },
          "metadata": {},
          "execution_count": 6
        },
        {
          "output_type": "display_data",
          "data": {
            "text/plain": [
              "<Figure size 432x288 with 1 Axes>"
            ],
            "image/png": "[encoded data removed]"
          },
          "metadata": {
            "needs_background": "light"
          }
        }
      ],
      "source": [
        "f = 3\n",
        "t = np.arange(0,2,2/100)\n",
        "# t = np.linspace(0,2,100) # alernative and simpler way of creating evenly space numbers\n",
        "y = np.sin(2*np.pi*f*t)\n",
        "\n",
        "plt.plot(t,y)\n",
        "plt.grid()\n",
        "plt.xlabel('t', fontsize=16)\n",
        "plt.ylabel('sin(2pi ft)', fontsize=16)"
      ]
    },
    {
      "cell_type": "markdown",
      "metadata": {
        "id": "2YW-f44n1w3W"
      },
      "source": [
        "You can also stack plots."
      ]
    },
    {
      "cell_type": "code",
      "execution_count": null,
      "metadata": {
        "id": "r9Hog2Iw1w3W",
        "colab": {
          "base_uri": "https://localhost:8080/",
          "height": 296
        },
        "outputId": "0fa37f54-ff07-4a00-ae13-e7177409573a"
      },
      "outputs": [
        {
          "output_type": "execute_result",
          "data": {
            "text/plain": [
              "Text(0.5, 0, 't')"
            ]
          },
          "metadata": {},
          "execution_count": 8
        },
        {
          "output_type": "display_data",
          "data": {
            "text/plain": [
              "<Figure size 432x288 with 1 Axes>"
            ],
            "image/png": "[encoded data removed]"
          },
          "metadata": {
            "needs_background": "light"
          }
        }
      ],
      "source": [
        "ysq = y**2\n",
        "plt.plot(t,y)\n",
        "plt.plot(t,ysq)\n",
        "plt.grid()\n",
        "plt.xlabel('t')"
      ]
    },
    {
      "cell_type": "markdown",
      "metadata": {
        "id": "-VTWXsln1w3W"
      },
      "source": [
        "**Exercise** Create a plot of $y = e^{-2x}$ vs. $x$ for $x \\in [-1,3]$.  Use 200 points for the values of $x$."
      ]
    },
    {
      "cell_type": "markdown",
      "metadata": {
        "id": "Zi72uA_W1w3W"
      },
      "source": [
        "## Indexing and Slicing Vectors\n",
        "\n",
        "You can access individual elements by `x[i]`.  Unlike MATLAB, the indexing starts at 0!  "
      ]
    },
    {
      "cell_type": "code",
      "execution_count": null,
      "metadata": {
        "id": "klD8X77X1w3X",
        "colab": {
          "base_uri": "https://localhost:8080/"
        },
        "outputId": "4d6a1a85-135f-4b2e-e01c-898b6e3d3218"
      },
      "outputs": [
        {
          "output_type": "stream",
          "name": "stdout",
          "text": [
            "Element 0 is 2\n",
            "Element 3 is 8\n"
          ]
        }
      ],
      "source": [
        "x = np.array([2,4,6,8,10])\n",
        "print(\"Element 0 is \"+str(x[0]))\n",
        "print(\"Element 3 is \"+str(x[3]))"
      ]
    },
    {
      "cell_type": "markdown",
      "source": [
        "If you want to get the last element, it might help to know the array length. This can be done using the \"shape\" attribute. Note that this returns a tuple with 2 elements by default because numpy also allows us to work with matrices that have both a length and a height."
      ],
      "metadata": {
        "id": "mHP0t0ns4EFq"
      }
    },
    {
      "cell_type": "code",
      "source": [
        "print(x.shape)\n",
        "print(x.shape[0])"
      ],
      "metadata": {
        "id": "BhP7MzFL4MfK",
        "colab": {
          "base_uri": "https://localhost:8080/"
        },
        "outputId": "f95e73b0-06ce-4c7e-8ef0-ab8de04f0436"
      },
      "execution_count": null,
      "outputs": [
        {
          "output_type": "stream",
          "name": "stdout",
          "text": [
            "(5,)\n",
            "5\n"
          ]
        }
      ]
    },
    {
      "cell_type": "markdown",
      "metadata": {
        "id": "22SXrTT21w3X"
      },
      "source": [
        "Similar to MATLAB, you can obtain *slices* from `numpy` vectors, meaning subsets of components.  Use the `:` operator as follows."
      ]
    },
    {
      "cell_type": "code",
      "execution_count": null,
      "metadata": {
        "id": "4S9PK1Y91w3X",
        "colab": {
          "base_uri": "https://localhost:8080/"
        },
        "outputId": "604f1aad-6e65-4bca-fc6f-37370f1ace33"
      },
      "outputs": [
        {
          "output_type": "stream",
          "name": "stdout",
          "text": [
            "x=      [-85  77 -22  39  56 -30 -89 -38  78  50]\n",
            "length of x =      10\n",
            "x[2:5]= [-22  39  56]\n",
            "x[:4]=  [-85  77 -22  39]\n",
            "x[7:]=  [-38  78  50]\n",
            "x[-1]=  50\n",
            "x[2:-3]=  [-22  39  56 -30 -89]\n"
          ]
        }
      ],
      "source": [
        "x = np.random.randint(-100,100,10)  # 10 random elements from 0 to 1\n",
        "xlength = x.shape[0]\n",
        "x1 = x[2:5]             # Elements 2,3,4  (Note 5 is NOT included)\n",
        "x2 = x[:4]              # Elements 0,1,2,3  (Starts at 0, element 4 NOT included)\n",
        "x3 = x[7:]              # Elements 7,8,9 (Element 7 IS included. Then all elements to the end.)\n",
        "xlast = x[-1]           # The last element\n",
        "# or you could do xlast = x[xlength-1]\n",
        "x4 = x[2:-3]            # Elements 3,4,5,6\n",
        "# This is equivlent to writing x[2:xlength-3]\n",
        "\n",
        "print(\"x=      \"+np.array_str(x))\n",
        "print(\"length of x =      \"+str(xlength))\n",
        "print(\"x[2:5]= \"+str(x1))\n",
        "print(\"x[:4]=  \"+str(x2))\n",
        "print(\"x[7:]=  \"+str(x3))\n",
        "print(\"x[-1]=  \"+str(xlast))\n",
        "print(\"x[2:-3]=  \"+str(x4))\n"
      ]
    },
    {
      "cell_type": "markdown",
      "metadata": {
        "id": "yNxtfBf-1w3X"
      },
      "source": [
        "**Exercise**  Suppose we construct a vector `x` by:\n",
        "\n",
        "    x = np.arange(1,5)**2\n",
        "    \n",
        "What are the vectors created by the following slicing operations:\n",
        "\n",
        "    x1 = x[:3]\n",
        "    x2 = x[3:]\n",
        "    x3 = x[1:4]"
      ]
    },
    {
      "cell_type": "code",
      "source": [],
      "metadata": {
        "id": "lHRrDd8C6QDb"
      },
      "execution_count": null,
      "outputs": []
    }
  ],
  "metadata": {
    "anaconda-cloud": {},
    "kernelspec": {
      "display_name": "Python 3",
      "language": "python",
      "name": "python3"
    },
    "language_info": {
      "codemirror_mode": {
        "name": "ipython",
        "version": 3
      },
      "file_extension": ".py",
      "mimetype": "text/x-python",
      "name": "python",
      "nbconvert_exporter": "python",
      "pygments_lexer": "ipython3",
      "version": "3.7.4"
    },
    "colab": {
      "provenance": [],
      "include_colab_link": true
    }
  },
  "nbformat": 4,
  "nbformat_minor": 0
}