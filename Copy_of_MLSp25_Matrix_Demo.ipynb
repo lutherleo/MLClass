{
  "cells": [
    {
      "cell_type": "markdown",
      "metadata": {
        "id": "view-in-github",
        "colab_type": "text"
      },
      "source": [
        "<a href=\"https://colab.research.google.com/github/lutherleo/MLClass/blob/main/Copy_of_MLSp25_Matrix_Demo.ipynb\" target=\"_parent\"><img src=\"https://colab.research.google.com/assets/colab-badge.svg\" alt=\"Open In Colab\"/></a>"
      ]
    },
    {
      "cell_type": "markdown",
      "source": [],
      "metadata": {
        "id": "mFJCcNbm3RQN"
      }
    },
    {
      "cell_type": "markdown",
      "source": [
        "# Numpy 2D Arrays (aka matrices)\n",
        "\n",
        "In the previous demos and labs we worked with 1 dimensional ndarrays. Moving forward, we need to work with matrix data, which in numpy are represented as 2 dimensional arrays.\n",
        "\n",
        "As usual, we begin by loading the `numpy` package.\n",
        "\n",
        "They we show a simple example of how to create a 2-d array (aka a matrix)."
      ],
      "metadata": {
        "id": "60os-WQ5Fiwj"
      }
    },
    {
      "cell_type": "code",
      "source": [
        "import numpy as np\n",
        "X = np.array([[0,1],[2,3],[4,5]])\n",
        "print(X)"
      ],
      "metadata": {
        "id": "Kvo3bl9KFfCo",
        "colab": {
          "base_uri": "https://localhost:8080/"
        },
        "outputId": "c1e9110e-1f92-4aa0-e464-6b9cfb43749a"
      },
      "execution_count": null,
      "outputs": [
        {
          "output_type": "stream",
          "name": "stdout",
          "text": [
            "[[0 1]\n",
            " [2 3]\n",
            " [4 5]]\n"
          ]
        }
      ]
    },
    {
      "cell_type": "markdown",
      "source": [
        "You can check `X`'s dimensions using the `shape` variable. Do this often! One of the most common mistakes is having a dimension mismatch.\n",
        "\n",
        "numpy also hands vectors in a sloppy way. There are both 1-d arrays with no second dimension, and 2-d arrays with one of the dimensions equalt to 1. Be aware!"
      ],
      "metadata": {
        "id": "mQzMqiRgOz7L"
      }
    },
    {
      "cell_type": "code",
      "source": [
        "X.shape"
      ],
      "metadata": {
        "id": "36w-fbH9O_VZ",
        "colab": {
          "base_uri": "https://localhost:8080/"
        },
        "outputId": "5a1c4a6a-89d6-42cc-88f9-8fac3eb81ca8"
      },
      "execution_count": null,
      "outputs": [
        {
          "output_type": "execute_result",
          "data": {
            "text/plain": [
              "(3, 2)"
            ]
          },
          "metadata": {},
          "execution_count": 3
        }
      ]
    },
    {
      "cell_type": "code",
      "source": [
        "y = np.array([6,7])\n",
        "y.shape"
      ],
      "metadata": {
        "id": "9LhoTgyNPGKg",
        "colab": {
          "base_uri": "https://localhost:8080/"
        },
        "outputId": "b534208a-02e4-4419-cf5b-42f1701d56a4"
      },
      "execution_count": null,
      "outputs": [
        {
          "output_type": "execute_result",
          "data": {
            "text/plain": [
              "(2,)"
            ]
          },
          "metadata": {},
          "execution_count": 5
        }
      ]
    },
    {
      "cell_type": "code",
      "source": [
        "y = np.array([[6],[7]])\n",
        "y.shape"
      ],
      "metadata": {
        "id": "4Gs4WeXuPR1X",
        "colab": {
          "base_uri": "https://localhost:8080/"
        },
        "outputId": "4ef387c1-80c8-4d58-bf03-186fbc3f56c4"
      },
      "execution_count": null,
      "outputs": [
        {
          "output_type": "execute_result",
          "data": {
            "text/plain": [
              "(2, 1)"
            ]
          },
          "metadata": {},
          "execution_count": 6
        }
      ]
    },
    {
      "cell_type": "markdown",
      "source": [
        "To make a 1-d into a 2-d array with dimension one, use the `None` operation. You can either create a row or column vector."
      ],
      "metadata": {
        "id": "7t3BE6-PPnj8"
      }
    },
    {
      "cell_type": "code",
      "source": [
        "y = np.array([6,7])\n",
        "print(y[None,:].shape)\n",
        "print(y[:,None].shape)"
      ],
      "metadata": {
        "id": "39ZZZH9oPfmb",
        "colab": {
          "base_uri": "https://localhost:8080/"
        },
        "outputId": "15e0f296-06e1-4849-920b-4ab0fb52b313"
      },
      "execution_count": null,
      "outputs": [
        {
          "output_type": "stream",
          "name": "stdout",
          "text": [
            "(1, 2)\n",
            "(2, 1)\n"
          ]
        }
      ]
    },
    {
      "cell_type": "markdown",
      "source": [
        "We can perform basic operations on the matrix, like take its transpose, or sum up all elements."
      ],
      "metadata": {
        "id": "uoYTxzY3Lxrl"
      }
    },
    {
      "cell_type": "code",
      "source": [
        "Y = np.transpose(X)\n",
        "print(Y)"
      ],
      "metadata": {
        "id": "CV5dQ70GLv69",
        "colab": {
          "base_uri": "https://localhost:8080/"
        },
        "outputId": "a5d87545-1897-423e-91fb-b7f293c99b16"
      },
      "execution_count": null,
      "outputs": [
        {
          "output_type": "stream",
          "name": "stdout",
          "text": [
            "[[0 2 4]\n",
            " [1 3 5]]\n"
          ]
        }
      ]
    },
    {
      "cell_type": "code",
      "source": [
        "np.sum(X)"
      ],
      "metadata": {
        "id": "GDtDT0tYMAQj",
        "colab": {
          "base_uri": "https://localhost:8080/"
        },
        "outputId": "949b45ad-48cd-4d66-9d9d-ec3de0ff674a"
      },
      "execution_count": null,
      "outputs": [
        {
          "output_type": "execute_result",
          "data": {
            "text/plain": [
              "15"
            ]
          },
          "metadata": {},
          "execution_count": 7
        }
      ]
    },
    {
      "cell_type": "markdown",
      "source": [
        "We can also use slice indexing, just like we did for vectors. Note that in the last example we are grabbing the first column from the matrix. This gets returned as a 1-d array, not a 2-d array with second dimenion 1."
      ],
      "metadata": {
        "id": "BvQffI3Pbg5n"
      }
    },
    {
      "cell_type": "code",
      "source": [
        "print(X);print()\n",
        "print(X[0,0]);print()\n",
        "print(X[0,1]);print()\n",
        "print(X[1,0]);print()\n",
        "print(X[0:2,0]);print()\n",
        "print(X[:,0]);print()\n"
      ],
      "metadata": {
        "id": "QsVXzxlPbghi",
        "colab": {
          "base_uri": "https://localhost:8080/"
        },
        "outputId": "58ee590b-35a5-4b4f-931c-621d2dd8f0bc"
      },
      "execution_count": null,
      "outputs": [
        {
          "output_type": "stream",
          "name": "stdout",
          "text": [
            "[[0 1]\n",
            " [2 3]\n",
            " [4 5]]\n",
            "\n",
            "0\n",
            "\n",
            "1\n",
            "\n",
            "2\n",
            "\n",
            "[0 2]\n",
            "\n",
            "[0 2 4]\n",
            "\n"
          ]
        }
      ]
    },
    {
      "cell_type": "markdown",
      "metadata": {
        "id": "ghGEyM6qW6cG"
      },
      "source": [
        "## Axis Parameter\n",
        "\n",
        "Many operations in the `numpy` package can take an optional `axis` parameter to specify which dimensions the operation is to be applied.  This is extremely useful for multi-dimensional data. An operation like `np.mean` or `np.sum` takes the mean or sum of *all* elements in the array -- from all rows and columns."
      ]
    },
    {
      "cell_type": "code",
      "execution_count": null,
      "metadata": {
        "id": "ytOBi3ZlW6cG",
        "colab": {
          "base_uri": "https://localhost:8080/"
        },
        "outputId": "d58f717b-12a8-4a64-8b9c-9717ead8339b"
      },
      "outputs": [
        {
          "output_type": "stream",
          "name": "stdout",
          "text": [
            "2.5\n",
            "15\n"
          ]
        }
      ],
      "source": [
        "print(np.mean(X))\n",
        "print(np.sum(X))"
      ]
    },
    {
      "cell_type": "markdown",
      "metadata": {
        "id": "fGrZ3TMLW6cH"
      },
      "source": [
        "To take only the `sum` along each column, we can use the `axis` parameter."
      ]
    },
    {
      "cell_type": "code",
      "execution_count": null,
      "metadata": {
        "id": "YzTdVVnHW6cH",
        "colab": {
          "base_uri": "https://localhost:8080/"
        },
        "outputId": "90473c09-ef56-4007-a716-80742d5c72be"
      },
      "outputs": [
        {
          "output_type": "stream",
          "name": "stdout",
          "text": [
            "[[0 1]\n",
            " [2 3]\n",
            " [4 5]]\n",
            "[6 9]\n"
          ]
        }
      ],
      "source": [
        "print(X)\n",
        "print(np.sum(X,axis=0))"
      ]
    },
    {
      "cell_type": "markdown",
      "metadata": {
        "id": "QQpddwrcW6cH"
      },
      "source": [
        "Since `X` has shape `(3,2)`, the output `np.sum(X,axis=0)` is of shape `(2,)`.  Similarly, we can take the `sum` along each row:"
      ]
    },
    {
      "cell_type": "code",
      "execution_count": null,
      "metadata": {
        "id": "7HgPi5I0W6cI",
        "colab": {
          "base_uri": "https://localhost:8080/"
        },
        "outputId": "4e0f0f13-39a6-4a47-883e-29537c42f5c7"
      },
      "outputs": [
        {
          "output_type": "stream",
          "name": "stdout",
          "text": [
            "[1 5 9]\n"
          ]
        }
      ],
      "source": [
        "print(np.sum(X,axis=1))"
      ]
    },
    {
      "cell_type": "markdown",
      "metadata": {
        "id": "-2pHhtrNW6cJ"
      },
      "source": [
        "## Broadcasting\n",
        "\n",
        "**Broadcasting** is a useful tool in Python for performing operations on matrices. It generalizes the useful fact that, if we multiply a numpy array by a scalar, Python knows that we want to multiply *every entry* by that scalar.  "
      ]
    },
    {
      "cell_type": "code",
      "execution_count": null,
      "metadata": {
        "id": "J4McXY83W6cJ",
        "colab": {
          "base_uri": "https://localhost:8080/"
        },
        "outputId": "43336fc9-23d9-45d6-9f74-243ba15271c7"
      },
      "outputs": [
        {
          "output_type": "stream",
          "name": "stdout",
          "text": [
            "[[ 2  4  6]\n",
            " [ 8 10 12]]\n",
            "[[ 2  4  6]\n",
            " [ 8 10 12]]\n"
          ]
        }
      ],
      "source": [
        "a = np.array([[1,2,3],[4,5,6]])\n",
        "b = 2\n",
        "print(b*a)\n",
        "print(a*b)"
      ]
    },
    {
      "cell_type": "markdown",
      "metadata": {
        "id": "HbepO2yXW6cK"
      },
      "source": [
        "### Example 1:  Mean Removal\n",
        "\n",
        "Suppose that `X` is a data matrix of shape `(n,d)`.  That is, there are `n` data points and `d` features per point.  Often, we have to remove the mean from each feature.  That is, we want to compute the mean for each feature and then remove the mean from each column.  We could do this with a for-loop as:"
      ]
    },
    {
      "cell_type": "code",
      "execution_count": null,
      "metadata": {
        "id": "3uKYmYY9W6cK",
        "colab": {
          "base_uri": "https://localhost:8080/"
        },
        "outputId": "440496c5-700a-433d-c7c0-735d589faf20"
      },
      "outputs": [
        {
          "output_type": "stream",
          "name": "stdout",
          "text": [
            "[[0.16685458 0.26976574 0.37489954 0.79544607 0.75364133]\n",
            " [0.81798937 0.65779237 0.2374753  0.13729017 0.12583327]\n",
            " [0.98116558 0.39248653 0.95431359 0.41876647 0.92121877]\n",
            " [0.92754284 0.69713393 0.77888691 0.62912961 0.83298338]\n",
            " [0.83307305 0.77424891 0.75824912 0.40239156 0.15108809]\n",
            " [0.45220829 0.28918228 0.46370073 0.83877209 0.37082846]\n",
            " [0.05611794 0.30852591 0.27443029 0.54924452 0.08512761]]\n"
          ]
        }
      ],
      "source": [
        "# Generate some random data\n",
        "n = 100\n",
        "d = 5\n",
        "X = np.random.rand(n,d)\n",
        "print(X[0:7,:]) # print the first several rows of X"
      ]
    },
    {
      "cell_type": "code",
      "execution_count": null,
      "metadata": {
        "id": "BZRMF6XRW6cK",
        "colab": {
          "base_uri": "https://localhost:8080/"
        },
        "outputId": "3fa09948-1813-4864-d40a-910d437c31ba"
      },
      "outputs": [
        {
          "output_type": "stream",
          "name": "stdout",
          "text": [
            "[[-0.33307528 -0.21816042 -0.13095583  0.27095632  0.21487218]\n",
            " [ 0.31805951  0.16986621 -0.26838007 -0.38719958 -0.41293589]\n",
            " [ 0.48123572 -0.09543963  0.44845823 -0.10572328  0.38244962]\n",
            " [ 0.42761298  0.20920777  0.27303155  0.10463986  0.29421423]\n",
            " [ 0.33314318  0.28632274  0.25239375 -0.12209819 -0.38768107]\n",
            " [-0.04772157 -0.19874389 -0.04215464  0.31428233 -0.16794069]\n",
            " [-0.44381193 -0.17940025 -0.23142508  0.02475477 -0.45364154]]\n"
          ]
        }
      ],
      "source": [
        "Xm = np.zeros(d)      # Mean for each feature\n",
        "X_demean = np.zeros((n,d))  # Transformed features with the means removed\n",
        "for j in range(d):\n",
        "    Xm[j] = np.mean(X[:,j])\n",
        "    for i in range(n):\n",
        "        X_demean[i,j] = X[i,j] - Xm[j]\n",
        "print(X_demean[0:7,:]) # print the first several rows of the result to compare to later"
      ]
    },
    {
      "cell_type": "markdown",
      "metadata": {
        "id": "Nvmx_aJ8W6cK"
      },
      "source": [
        "The code below does this without a for loop using the `axis` parameter and broadcasting."
      ]
    },
    {
      "cell_type": "code",
      "execution_count": null,
      "metadata": {
        "scrolled": true,
        "id": "JOnF50hbW6cL",
        "colab": {
          "base_uri": "https://localhost:8080/"
        },
        "outputId": "17b0348c-5253-467f-deec-8b0666381688"
      },
      "outputs": [
        {
          "output_type": "stream",
          "name": "stdout",
          "text": [
            "[0.49992986 0.48792616 0.50585537 0.52448975 0.53876916]\n"
          ]
        }
      ],
      "source": [
        "# Compute the mean per column using the axis command\n",
        "Xm = np.mean(X,axis=0)  # This is a d-dim matrix\n",
        "print(Xm)"
      ]
    },
    {
      "cell_type": "markdown",
      "metadata": {
        "id": "t91r2IUGW6cL"
      },
      "source": [
        "To use broadcasting we will need to convert Xm to a 2 dimensional ndarray. As show before, we can do this with the `Xm[None,:]` operation, which returns a `(1,d)` shape array."
      ]
    },
    {
      "cell_type": "code",
      "execution_count": null,
      "metadata": {
        "id": "SjObuwhsW6cL",
        "colab": {
          "base_uri": "https://localhost:8080/"
        },
        "outputId": "a23721c6-2d39-46b5-f18c-2c1939604ecf"
      },
      "outputs": [
        {
          "output_type": "stream",
          "name": "stdout",
          "text": [
            "[[0.49992986 0.48792616 0.50585537 0.52448975 0.53876916]]\n"
          ]
        }
      ],
      "source": [
        "print(Xm[None,:])"
      ]
    },
    {
      "cell_type": "markdown",
      "metadata": {
        "id": "-BaQGqT9W6cL"
      },
      "source": [
        "Using Python broadcasting, we can then subtract the `Xm[None,:]` from `X`. These array are different sizes -- `Xm[None,:]` has one row while `X` has n. But numpy automatically figures out that, since the number of columns match, we want to substract `Xm[None,:]` off of every row in X."
      ]
    },
    {
      "cell_type": "code",
      "execution_count": null,
      "metadata": {
        "id": "VpAiEWF7W6cL",
        "colab": {
          "base_uri": "https://localhost:8080/"
        },
        "outputId": "fbc2910a-8347-4f3e-bd40-08a4dd2bd2d7"
      },
      "outputs": [
        {
          "output_type": "stream",
          "name": "stdout",
          "text": [
            "[[-0.33307528 -0.21816042 -0.13095583  0.27095632  0.21487218]\n",
            " [ 0.31805951  0.16986621 -0.26838007 -0.38719958 -0.41293589]\n",
            " [ 0.48123572 -0.09543963  0.44845823 -0.10572328  0.38244962]\n",
            " [ 0.42761298  0.20920777  0.27303155  0.10463986  0.29421423]\n",
            " [ 0.33314318  0.28632274  0.25239375 -0.12209819 -0.38768107]\n",
            " [-0.04772157 -0.19874389 -0.04215464  0.31428233 -0.16794069]\n",
            " [-0.44381193 -0.17940025 -0.23142508  0.02475477 -0.45364154]]\n"
          ]
        }
      ],
      "source": [
        "# Subtract the mean\n",
        "X_demean = X - Xm[None,:]\n",
        "print(X_demean[0:7,:])"
      ]
    },
    {
      "cell_type": "markdown",
      "metadata": {
        "id": "cKxhxJlVW6cL"
      },
      "source": [
        "### Example 2:  Standardizing variables\n",
        "\n",
        "A variant of the above example is to *standardize* the features, where we compute the transform variables,\n",
        "\n",
        "    Z[i,j] = (X[i,j] - Xm[j])/ Xstd[j]\n",
        "    \n",
        "where `Xstd[j]` is the standard deviation per feature.  This can be done as follows:"
      ]
    },
    {
      "cell_type": "code",
      "execution_count": null,
      "metadata": {
        "id": "cqp9mruBW6cL"
      },
      "outputs": [],
      "source": [
        "Xstd = np.std(X,axis=0)\n",
        "Z = (X-Xm[None,:])/Xstd[None,:]"
      ]
    },
    {
      "cell_type": "markdown",
      "metadata": {
        "collapsed": true,
        "id": "nmpuPpAcW6cM"
      },
      "source": [
        "**Exercise 1:**  Given a matrix `X`, compute the matrix `Y`, where the rows of `X` are normaized to have norm one.  That is:\n",
        "\n",
        "     Y[i,j] = X[i,j] / sum_j X[i,j]   "
      ]
    },
    {
      "cell_type": "code",
      "execution_count": null,
      "metadata": {
        "id": "WP04qI6rW6cM"
      },
      "outputs": [],
      "source": [
        "X = np.random.rand(4,3)\n",
        "# Y = ..."
      ]
    },
    {
      "cell_type": "markdown",
      "metadata": {
        "id": "nl0il_EoW6cM"
      },
      "source": [
        "**Exercise 2:** Diagonal multiplication.  Given a matrix `X` and a vector `d`, compute `Y = diag(d)*X`."
      ]
    },
    {
      "cell_type": "code",
      "execution_count": null,
      "metadata": {
        "id": "UdkZvNMpW6cM"
      },
      "outputs": [],
      "source": [
        "X = np.random.rand(5,3)\n",
        "d = np.random.rand(5)\n",
        "# Y = ..."
      ]
    },
    {
      "cell_type": "markdown",
      "metadata": {
        "id": "KTZ1FlebW6cM"
      },
      "source": [
        "## Matrix operations with numpy\n",
        "Python broadcasting is great, but sometime it does exactly the wrong thing. If you have a column vector `z` and a matrix `X`, `X*z` won't compute the matrix-vector product, but rather use broadcasting to scales `X`'s rows. Or it will throw an error if the dimensions don't work out. Similarly for matrix `X` and `Y`, `X*Y` does not compute a matrix product."
      ]
    },
    {
      "cell_type": "code",
      "execution_count": null,
      "metadata": {
        "id": "lrqlbh6mW6cN",
        "outputId": "b1da7f65-6d95-42b0-aaf6-5b91e6e77ab5",
        "colab": {
          "base_uri": "https://localhost:8080/"
        }
      },
      "outputs": [
        {
          "output_type": "stream",
          "name": "stdout",
          "text": [
            "[[1 2]\n",
            " [3 4]]\n",
            "\n",
            "[[2]\n",
            " [3]]\n",
            "\n",
            "[[-1 -1]\n",
            " [-1 -1]]\n",
            "\n"
          ]
        }
      ],
      "source": [
        "X = np.array([[1,2],[3,4]])\n",
        "z = np.array([[2],[3]])\n",
        "Y = np.array([[-1,-1],[-1,-1]])\n",
        "print(X);print()\n",
        "print(z);print()\n",
        "print(Y);print()"
      ]
    },
    {
      "cell_type": "code",
      "execution_count": null,
      "metadata": {
        "id": "qGAdOEm9W6cN",
        "outputId": "9ff328ba-f150-4841-a0cb-90a489a3924f",
        "colab": {
          "base_uri": "https://localhost:8080/"
        }
      },
      "outputs": [
        {
          "output_type": "stream",
          "name": "stdout",
          "text": [
            "[[ 2  4]\n",
            " [ 9 12]]\n",
            "\n",
            "[[-1 -2]\n",
            " [-3 -4]]\n"
          ]
        }
      ],
      "source": [
        "print(str(X*z));print()\n",
        "print(X*Y)"
      ]
    },
    {
      "cell_type": "markdown",
      "metadata": {
        "id": "mJHn623MW6cN"
      },
      "source": [
        "To compute actually matrix/matrix and matrix/vector products, you can use the `dot` operation."
      ]
    },
    {
      "cell_type": "code",
      "execution_count": null,
      "metadata": {
        "id": "ZpGSPGUcW6cN",
        "outputId": "b368662e-5901-4885-f95e-4f6e7a547f5a",
        "colab": {
          "base_uri": "https://localhost:8080/"
        }
      },
      "outputs": [
        {
          "output_type": "stream",
          "name": "stdout",
          "text": [
            "[[ 8]\n",
            " [18]]\n",
            "\n",
            "[[13]]\n",
            "\n",
            "[[-3 -3]\n",
            " [-7 -7]]\n",
            "\n"
          ]
        }
      ],
      "source": [
        "print(np.dot(X,z));print()\n",
        "print(np.dot(np.transpose(z),z));print()\n",
        "print(np.dot(X,Y));print()"
      ]
    },
    {
      "cell_type": "markdown",
      "source": [
        "The nameing of the `dot` command is unfortunate because it doesn't actually perform a dot product! If you run np.(z,z) you will get an error, even then $\\langle z,z\\rangle$ is a valid linear algebra operation.\n",
        "\n",
        "Fortunately, you can avoid `dot` altogether. A much cleaner approach is to use numpy's `@` operator. This operator works directly on 2D ndarrays with compatible dimensions."
      ],
      "metadata": {
        "id": "cfojXXvGST1Z"
      }
    },
    {
      "cell_type": "code",
      "execution_count": null,
      "metadata": {
        "id": "1nKwcJciW6cN",
        "outputId": "497169b0-81b2-4523-cd7e-069d35a3f7b4",
        "colab": {
          "base_uri": "https://localhost:8080/"
        }
      },
      "outputs": [
        {
          "output_type": "stream",
          "name": "stdout",
          "text": [
            "[[ 8]\n",
            " [18]]\n",
            "\n",
            "[[13]]\n",
            "\n",
            "[[-3 -3]\n",
            " [-7 -7]]\n"
          ]
        }
      ],
      "source": [
        "print(X@z);print()\n",
        "print(np.transpose(z)@z);print()\n",
        "print(X@Y)"
      ]
    },
    {
      "cell_type": "markdown",
      "metadata": {
        "id": "oAtBL6K9W6cN"
      },
      "source": [
        "Note that `@` between a row and column vector computes an outerproduct instead of an inner product."
      ]
    },
    {
      "cell_type": "code",
      "execution_count": null,
      "metadata": {
        "id": "xLYfwH_dW6cN",
        "outputId": "5d67a1b0-0ab8-499d-875f-be32b0314f4d",
        "colab": {
          "base_uri": "https://localhost:8080/"
        }
      },
      "outputs": [
        {
          "output_type": "stream",
          "name": "stdout",
          "text": [
            "[[4 6]\n",
            " [6 9]]\n"
          ]
        }
      ],
      "source": [
        "print(z@np.transpose(z))"
      ]
    },
    {
      "cell_type": "markdown",
      "source": [
        "The @ command can be used with vectors that are 1-d not 2-d arrays. For example, the following code is valid. But not the output is a 1-d, not a 2-d array"
      ],
      "metadata": {
        "id": "UHG-cPXBSuyy"
      }
    },
    {
      "cell_type": "code",
      "source": [
        "X = np.array([[1,2],[3,4],[5,6]])\n",
        "z = np.array([2,3])\n",
        "w = np.array([2,3,4])\n",
        "print(X@z)\n",
        "print()\n",
        "print(w@X)"
      ],
      "metadata": {
        "id": "Fmh6IlXCSt7_",
        "outputId": "587b2053-06a3-4635-8728-0c510a7dd396",
        "colab": {
          "base_uri": "https://localhost:8080/"
        }
      },
      "execution_count": null,
      "outputs": [
        {
          "output_type": "stream",
          "name": "stdout",
          "text": [
            "[ 8 18 28]\n",
            "\n",
            "[31 40]\n"
          ]
        }
      ]
    }
  ],
  "metadata": {
    "anaconda-cloud": {},
    "kernelspec": {
      "display_name": "Python 3",
      "language": "python",
      "name": "python3"
    },
    "language_info": {
      "codemirror_mode": {
        "name": "ipython",
        "version": 3
      },
      "file_extension": ".py",
      "mimetype": "text/x-python",
      "name": "python",
      "nbconvert_exporter": "python",
      "pygments_lexer": "ipython3",
      "version": "3.7.4"
    },
    "colab": {
      "provenance": [],
      "include_colab_link": true
    }
  },
  "nbformat": 4,
  "nbformat_minor": 0
}