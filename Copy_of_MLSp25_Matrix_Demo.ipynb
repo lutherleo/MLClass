{
  "cells": [
    {
      "cell_type": "markdown",
      "metadata": {
        "id": "view-in-github",
        "colab_type": "text"
      },
      "source": [
        "<a href=\"https://colab.research.google.com/github/lutherleo/MLClass/blob/main/Copy_of_MLSp25_Matrix_Demo.ipynb\" target=\"_parent\"><img src=\"https://colab.research.google.com/assets/colab-badge.svg\" alt=\"Open In Colab\"/></a>"
      ]
    },
    {
      "cell_type": "markdown",
      "source": [],
      "metadata": {
        "id": "mFJCcNbm3RQN"
      }
    },
    {
      "cell_type": "markdown",
      "source": [
        "# Numpy 2D Arrays (aka matrices)\n",
        "\n",
        "In the previous demos and labs we worked with 1 dimensional ndarrays. Moving forward, we need to work with matrix data, which in numpy are represented as 2 dimensional arrays.\n",
        "\n",
        "As usual, we begin by loading the `numpy` package.\n",
        "\n",
        "They we show a simple example of how to create a 2-d array (aka a matrix)."
      ],
      "metadata": {
        "id": "60os-WQ5Fiwj"
      }
    },
    {
      "cell_type": "code",
      "source": [
        "import numpy as np\n",
        "X = np.array([[0,1],[2,3],[4,5]])\n",
        "print(X)"
      ],
      "metadata": {
        "id": "Kvo3bl9KFfCo",
        "colab": {
          "base_uri": "https://localhost:8080/"
        },
        "outputId": "c94bedd7-7681-437a-d3d1-da1bd421a395"
      },
      "execution_count": 1,
      "outputs": [
        {
          "output_type": "stream",
          "name": "stdout",
          "text": [
            "[[0 1]\n",
            " [2 3]\n",
            " [4 5]]\n"
          ]
        }
      ]
    },
    {
      "cell_type": "markdown",
      "source": [
        "You can check `X`'s dimensions using the `shape` variable. Do this often! One of the most common mistakes is having a dimension mismatch.\n",
        "\n",
        "numpy also hands vectors in a sloppy way. There are both 1-d arrays with no second dimension, and 2-d arrays with one of the dimensions equalt to 1. Be aware!"
      ],
      "metadata": {
        "id": "mQzMqiRgOz7L"
      }
    },
    {
      "cell_type": "code",
      "source": [
        "X.shape"
      ],
      "metadata": {
        "id": "36w-fbH9O_VZ",
        "colab": {
          "base_uri": "https://localhost:8080/"
        },
        "outputId": "f1f08daf-c66e-467a-c611-c506a217cd85"
      },
      "execution_count": 2,
      "outputs": [
        {
          "output_type": "execute_result",
          "data": {
            "text/plain": [
              "(3, 2)"
            ]
          },
          "metadata": {},
          "execution_count": 2
        }
      ]
    },
    {
      "cell_type": "code",
      "source": [
        "y = np.array([6,7])\n",
        "y.shape"
      ],
      "metadata": {
        "id": "9LhoTgyNPGKg",
        "colab": {
          "base_uri": "https://localhost:8080/"
        },
        "outputId": "a2c36a74-d2e9-4e0a-a1ea-589e04d720e4"
      },
      "execution_count": 3,
      "outputs": [
        {
          "output_type": "execute_result",
          "data": {
            "text/plain": [
              "(2,)"
            ]
          },
          "metadata": {},
          "execution_count": 3
        }
      ]
    },
    {
      "cell_type": "code",
      "source": [
        "y = np.array([[6],[7]])\n",
        "y.shape"
      ],
      "metadata": {
        "id": "4Gs4WeXuPR1X",
        "colab": {
          "base_uri": "https://localhost:8080/"
        },
        "outputId": "fb3472ea-2f53-4245-d550-4378d7269464"
      },
      "execution_count": 4,
      "outputs": [
        {
          "output_type": "execute_result",
          "data": {
            "text/plain": [
              "(2, 1)"
            ]
          },
          "metadata": {},
          "execution_count": 4
        }
      ]
    },
    {
      "cell_type": "markdown",
      "source": [
        "To make a 1-d into a 2-d array with dimension one, use the `None` operation. You can either create a row or column vector."
      ],
      "metadata": {
        "id": "7t3BE6-PPnj8"
      }
    },
    {
      "cell_type": "code",
      "source": [
        "y = np.array([6,7])\n",
        "print(y[None,:].shape)\n",
        "print(y[:,None].shape)"
      ],
      "metadata": {
        "id": "39ZZZH9oPfmb",
        "colab": {
          "base_uri": "https://localhost:8080/"
        },
        "outputId": "d0961286-e7b0-4ccd-ae7a-d4eefb6eb3b4"
      },
      "execution_count": 5,
      "outputs": [
        {
          "output_type": "stream",
          "name": "stdout",
          "text": [
            "(1, 2)\n",
            "(2, 1)\n"
          ]
        }
      ]
    },
    {
      "cell_type": "markdown",
      "source": [
        "We can perform basic operations on the matrix, like take its transpose, or sum up all elements."
      ],
      "metadata": {
        "id": "uoYTxzY3Lxrl"
      }
    },
    {
      "cell_type": "code",
      "source": [
        "Y = np.transpose(X)\n",
        "print(Y)"
      ],
      "metadata": {
        "id": "CV5dQ70GLv69",
        "colab": {
          "base_uri": "https://localhost:8080/"
        },
        "outputId": "ca4c504e-e7c6-479b-eb41-6311fad5239d"
      },
      "execution_count": 6,
      "outputs": [
        {
          "output_type": "stream",
          "name": "stdout",
          "text": [
            "[[0 2 4]\n",
            " [1 3 5]]\n"
          ]
        }
      ]
    },
    {
      "cell_type": "code",
      "source": [
        "np.sum(X)"
      ],
      "metadata": {
        "id": "GDtDT0tYMAQj",
        "colab": {
          "base_uri": "https://localhost:8080/"
        },
        "outputId": "fa716384-0504-4f5e-b4de-0be5cc6d055e"
      },
      "execution_count": 7,
      "outputs": [
        {
          "output_type": "execute_result",
          "data": {
            "text/plain": [
              "15"
            ]
          },
          "metadata": {},
          "execution_count": 7
        }
      ]
    },
    {
      "cell_type": "markdown",
      "source": [
        "We can also use slice indexing, just like we did for vectors. Note that in the last example we are grabbing the first column from the matrix. This gets returned as a 1-d array, not a 2-d array with second dimenion 1."
      ],
      "metadata": {
        "id": "BvQffI3Pbg5n"
      }
    },
    {
      "cell_type": "code",
      "source": [
        "print(X);print()\n",
        "print(X[0,0]);print()\n",
        "print(X[0,1]);print()\n",
        "print(X[1,0]);print()\n",
        "print(X[0:2,0]);print()\n",
        "print(X[:,0]);print()\n"
      ],
      "metadata": {
        "id": "QsVXzxlPbghi",
        "colab": {
          "base_uri": "https://localhost:8080/"
        },
        "outputId": "b0f178cd-b835-44f5-c2b6-36e2776e89cb"
      },
      "execution_count": 8,
      "outputs": [
        {
          "output_type": "stream",
          "name": "stdout",
          "text": [
            "[[0 1]\n",
            " [2 3]\n",
            " [4 5]]\n",
            "\n",
            "0\n",
            "\n",
            "1\n",
            "\n",
            "2\n",
            "\n",
            "[0 2]\n",
            "\n",
            "[0 2 4]\n",
            "\n"
          ]
        }
      ]
    },
    {
      "cell_type": "markdown",
      "metadata": {
        "id": "ghGEyM6qW6cG"
      },
      "source": [
        "## Axis Parameter\n",
        "\n",
        "Many operations in the `numpy` package can take an optional `axis` parameter to specify which dimensions the operation is to be applied.  This is extremely useful for multi-dimensional data. An operation like `np.mean` or `np.sum` takes the mean or sum of *all* elements in the array -- from all rows and columns."
      ]
    },
    {
      "cell_type": "code",
      "execution_count": 9,
      "metadata": {
        "id": "ytOBi3ZlW6cG",
        "colab": {
          "base_uri": "https://localhost:8080/"
        },
        "outputId": "971097f1-b7fd-44cc-df21-51cf8e9a5a33"
      },
      "outputs": [
        {
          "output_type": "stream",
          "name": "stdout",
          "text": [
            "2.5\n",
            "15\n"
          ]
        }
      ],
      "source": [
        "print(np.mean(X))\n",
        "print(np.sum(X))"
      ]
    },
    {
      "cell_type": "markdown",
      "metadata": {
        "id": "fGrZ3TMLW6cH"
      },
      "source": [
        "To take only the `sum` along each column, we can use the `axis` parameter."
      ]
    },
    {
      "cell_type": "code",
      "execution_count": 10,
      "metadata": {
        "id": "YzTdVVnHW6cH",
        "colab": {
          "base_uri": "https://localhost:8080/"
        },
        "outputId": "be69ce76-8c6b-48aa-d425-b6b55b07dfcd"
      },
      "outputs": [
        {
          "output_type": "stream",
          "name": "stdout",
          "text": [
            "[[0 1]\n",
            " [2 3]\n",
            " [4 5]]\n",
            "[6 9]\n"
          ]
        }
      ],
      "source": [
        "print(X)\n",
        "print(np.sum(X,axis=0))"
      ]
    },
    {
      "cell_type": "markdown",
      "metadata": {
        "id": "QQpddwrcW6cH"
      },
      "source": [
        "Since `X` has shape `(3,2)`, the output `np.sum(X,axis=0)` is of shape `(2,)`.  Similarly, we can take the `sum` along each row:"
      ]
    },
    {
      "cell_type": "code",
      "execution_count": 11,
      "metadata": {
        "id": "7HgPi5I0W6cI",
        "colab": {
          "base_uri": "https://localhost:8080/"
        },
        "outputId": "6a9ba28f-7e3e-4bf1-957d-be54c903d409"
      },
      "outputs": [
        {
          "output_type": "stream",
          "name": "stdout",
          "text": [
            "[1 5 9]\n"
          ]
        }
      ],
      "source": [
        "print(np.sum(X,axis=1))"
      ]
    },
    {
      "cell_type": "markdown",
      "metadata": {
        "id": "-2pHhtrNW6cJ"
      },
      "source": [
        "## Broadcasting\n",
        "\n",
        "**Broadcasting** is a useful tool in Python for performing operations on matrices. It generalizes the useful fact that, if we multiply a numpy array by a scalar, Python knows that we want to multiply *every entry* by that scalar.  "
      ]
    },
    {
      "cell_type": "code",
      "execution_count": 12,
      "metadata": {
        "id": "J4McXY83W6cJ",
        "colab": {
          "base_uri": "https://localhost:8080/"
        },
        "outputId": "1746d8e6-4656-43c1-aa3d-af147d6b94a4"
      },
      "outputs": [
        {
          "output_type": "stream",
          "name": "stdout",
          "text": [
            "[[ 2  4  6]\n",
            " [ 8 10 12]]\n",
            "[[ 2  4  6]\n",
            " [ 8 10 12]]\n"
          ]
        }
      ],
      "source": [
        "a = np.array([[1,2,3],[4,5,6]])\n",
        "b = 2\n",
        "print(b*a)\n",
        "print(a*b)"
      ]
    },
    {
      "cell_type": "markdown",
      "metadata": {
        "id": "HbepO2yXW6cK"
      },
      "source": [
        "### Example 1:  Mean Removal\n",
        "\n",
        "Suppose that `X` is a data matrix of shape `(n,d)`.  That is, there are `n` data points and `d` features per point.  Often, we have to remove the mean from each feature.  That is, we want to compute the mean for each feature and then remove the mean from each column.  We could do this with a for-loop as:"
      ]
    },
    {
      "cell_type": "code",
      "execution_count": 13,
      "metadata": {
        "id": "3uKYmYY9W6cK",
        "colab": {
          "base_uri": "https://localhost:8080/"
        },
        "outputId": "2be27ddb-1b20-4562-8096-b82df826b8bd"
      },
      "outputs": [
        {
          "output_type": "stream",
          "name": "stdout",
          "text": [
            "[[0.11275669 0.91325719 0.40764409 0.6291703  0.71039886]\n",
            " [0.70060207 0.56723262 0.46527855 0.35450515 0.04355114]\n",
            " [0.24265309 0.57037443 0.18849393 0.63409394 0.52725188]\n",
            " [0.97265059 0.68886755 0.55799237 0.52473775 0.69123642]\n",
            " [0.83652541 0.53564669 0.72105327 0.7626284  0.07937835]\n",
            " [0.82708812 0.4342785  0.65347432 0.77526692 0.16296197]\n",
            " [0.05061853 0.00497666 0.37006689 0.9001911  0.40521621]]\n"
          ]
        }
      ],
      "source": [
        "# Generate some random data\n",
        "n = 100\n",
        "d = 5\n",
        "X = np.random.rand(n,d)\n",
        "print(X[0:7,:]) # print the first several rows of X"
      ]
    },
    {
      "cell_type": "code",
      "execution_count": 14,
      "metadata": {
        "id": "BZRMF6XRW6cK",
        "colab": {
          "base_uri": "https://localhost:8080/"
        },
        "outputId": "1a90863b-0fac-4eec-fae9-1167c3958460"
      },
      "outputs": [
        {
          "output_type": "stream",
          "name": "stdout",
          "text": [
            "[[-0.38833624  0.42697789 -0.10505663  0.09666804  0.24015437]\n",
            " [ 0.19950914  0.08095332 -0.04742217 -0.17799711 -0.42669335]\n",
            " [-0.25843984  0.08409513 -0.32420679  0.10159168  0.05700739]\n",
            " [ 0.47155767  0.20258824  0.04529165 -0.00776451  0.22099193]\n",
            " [ 0.33543249  0.04936739  0.20835255  0.23012615 -0.39086615]\n",
            " [ 0.32599519 -0.05200081  0.1407736   0.24276466 -0.30728253]\n",
            " [-0.4504744  -0.48130264 -0.14263383  0.36768884 -0.06502829]]\n"
          ]
        }
      ],
      "source": [
        "Xm = np.zeros(d)      # Mean for each feature\n",
        "X_demean = np.zeros((n,d))  # Transformed features with the means removed\n",
        "for j in range(d):\n",
        "    Xm[j] = np.mean(X[:,j])\n",
        "    for i in range(n):\n",
        "        X_demean[i,j] = X[i,j] - Xm[j]\n",
        "print(X_demean[0:7,:]) # print the first several rows of the result to compare to later"
      ]
    },
    {
      "cell_type": "markdown",
      "metadata": {
        "id": "Nvmx_aJ8W6cK"
      },
      "source": [
        "The code below does this without a for loop using the `axis` parameter and broadcasting."
      ]
    },
    {
      "cell_type": "code",
      "execution_count": 15,
      "metadata": {
        "scrolled": true,
        "id": "JOnF50hbW6cL",
        "colab": {
          "base_uri": "https://localhost:8080/"
        },
        "outputId": "7c56211c-bc35-468b-fcbc-d15243c09fcf"
      },
      "outputs": [
        {
          "output_type": "stream",
          "name": "stdout",
          "text": [
            "[0.50109293 0.4862793  0.51270072 0.53250226 0.47024449]\n"
          ]
        }
      ],
      "source": [
        "# Compute the mean per column using the axis command\n",
        "Xm = np.mean(X,axis=0)  # This is a d-dim matrix\n",
        "print(Xm)"
      ]
    },
    {
      "cell_type": "markdown",
      "metadata": {
        "id": "t91r2IUGW6cL"
      },
      "source": [
        "To use broadcasting we will need to convert Xm to a 2 dimensional ndarray. As show before, we can do this with the `Xm[None,:]` operation, which returns a `(1,d)` shape array."
      ]
    },
    {
      "cell_type": "code",
      "execution_count": 16,
      "metadata": {
        "id": "SjObuwhsW6cL",
        "colab": {
          "base_uri": "https://localhost:8080/"
        },
        "outputId": "8c928e6f-88d3-4bfb-c415-b02e412d14cc"
      },
      "outputs": [
        {
          "output_type": "stream",
          "name": "stdout",
          "text": [
            "[[0.50109293 0.4862793  0.51270072 0.53250226 0.47024449]]\n"
          ]
        }
      ],
      "source": [
        "print(Xm[None,:])"
      ]
    },
    {
      "cell_type": "markdown",
      "metadata": {
        "id": "-BaQGqT9W6cL"
      },
      "source": [
        "Using Python broadcasting, we can then subtract the `Xm[None,:]` from `X`. These array are different sizes -- `Xm[None,:]` has one row while `X` has n. But numpy automatically figures out that, since the number of columns match, we want to substract `Xm[None,:]` off of every row in X."
      ]
    },
    {
      "cell_type": "code",
      "execution_count": 17,
      "metadata": {
        "id": "VpAiEWF7W6cL",
        "colab": {
          "base_uri": "https://localhost:8080/"
        },
        "outputId": "1d276530-4d84-4725-8d6b-3968c2e6afa4"
      },
      "outputs": [
        {
          "output_type": "stream",
          "name": "stdout",
          "text": [
            "[[-0.38833624  0.42697789 -0.10505663  0.09666804  0.24015437]\n",
            " [ 0.19950914  0.08095332 -0.04742217 -0.17799711 -0.42669335]\n",
            " [-0.25843984  0.08409513 -0.32420679  0.10159168  0.05700739]\n",
            " [ 0.47155767  0.20258824  0.04529165 -0.00776451  0.22099193]\n",
            " [ 0.33543249  0.04936739  0.20835255  0.23012615 -0.39086615]\n",
            " [ 0.32599519 -0.05200081  0.1407736   0.24276466 -0.30728253]\n",
            " [-0.4504744  -0.48130264 -0.14263383  0.36768884 -0.06502829]]\n"
          ]
        }
      ],
      "source": [
        "# Subtract the mean\n",
        "X_demean = X - Xm[None,:]\n",
        "print(X_demean[0:7,:])"
      ]
    },
    {
      "cell_type": "markdown",
      "metadata": {
        "id": "cKxhxJlVW6cL"
      },
      "source": [
        "### Example 2:  Standardizing variables\n",
        "\n",
        "A variant of the above example is to *standardize* the features, where we compute the transform variables,\n",
        "\n",
        "    Z[i,j] = (X[i,j] - Xm[j])/ Xstd[j]\n",
        "    \n",
        "where `Xstd[j]` is the standard deviation per feature.  This can be done as follows:"
      ]
    },
    {
      "cell_type": "code",
      "execution_count": 18,
      "metadata": {
        "id": "cqp9mruBW6cL"
      },
      "outputs": [],
      "source": [
        "Xstd = np.std(X,axis=0)\n",
        "Z = (X-Xm[None,:])/Xstd[None,:]"
      ]
    },
    {
      "cell_type": "markdown",
      "metadata": {
        "collapsed": true,
        "id": "nmpuPpAcW6cM"
      },
      "source": [
        "**Exercise 1:**  Given a matrix `X`, compute the matrix `Y`, where the rows of `X` are normaized to have norm one.  That is:\n",
        "\n",
        "     Y[i,j] = X[i,j] / sum_j X[i,j]   "
      ]
    },
    {
      "cell_type": "code",
      "execution_count": 28,
      "metadata": {
        "id": "WP04qI6rW6cM",
        "colab": {
          "base_uri": "https://localhost:8080/"
        },
        "outputId": "86a889e5-c35d-4cb4-992b-f43fe4e5f14a"
      },
      "outputs": [
        {
          "output_type": "stream",
          "name": "stdout",
          "text": [
            "[[0.34033371 0.07293847 0.1808389 ]\n",
            " [0.24074335 0.3879347  0.47227203]\n",
            " [0.27066431 0.10615137 0.20531994]\n",
            " [0.14825862 0.43297546 0.14156913]]\n"
          ]
        }
      ],
      "source": [
        "X = np.random.rand(4,3)\n",
        "# Y = ...\n",
        "sum_jX = np.sum(X, axis=0)\n",
        "Y = X/sum_jX[None,:]\n",
        "print(Y)"
      ]
    },
    {
      "cell_type": "markdown",
      "metadata": {
        "id": "nl0il_EoW6cM"
      },
      "source": [
        "**Exercise 2:** Diagonal multiplication.  Given a matrix `X` and a vector `d`, compute `Y = diag(d)*X`."
      ]
    },
    {
      "cell_type": "code",
      "execution_count": 36,
      "metadata": {
        "id": "UdkZvNMpW6cM",
        "colab": {
          "base_uri": "https://localhost:8080/"
        },
        "outputId": "b64b5fb1-349d-4e32-b8b6-a36a862c3852"
      },
      "outputs": [
        {
          "output_type": "stream",
          "name": "stdout",
          "text": [
            "[[0.04508733 0.02588908 0.31077473]\n",
            " [0.30745487 0.17060248 0.1882086 ]\n",
            " [0.01807259 0.17049254 0.00185699]\n",
            " [0.05756252 0.13988323 0.06981987]\n",
            " [0.16764403 0.54768853 0.6650742 ]]\n"
          ]
        }
      ],
      "source": [
        "X = np.random.rand(5,3)\n",
        "d = np.random.rand(5)\n",
        "# Y = ...\n",
        "D = np.diag(d)\n",
        "Y = D@X\n",
        "print(Y)"
      ]
    },
    {
      "cell_type": "markdown",
      "metadata": {
        "id": "KTZ1FlebW6cM"
      },
      "source": [
        "## Matrix operations with numpy\n",
        "Python broadcasting is great, but sometime it does exactly the wrong thing. If you have a column vector `z` and a matrix `X`, `X*z` won't compute the matrix-vector product, but rather use broadcasting to scales `X`'s rows. Or it will throw an error if the dimensions don't work out. Similarly for matrix `X` and `Y`, `X*Y` does not compute a matrix product."
      ]
    },
    {
      "cell_type": "code",
      "execution_count": 37,
      "metadata": {
        "id": "lrqlbh6mW6cN",
        "outputId": "4a1826d5-092a-4b8c-e19f-62dcfe051fd8",
        "colab": {
          "base_uri": "https://localhost:8080/"
        }
      },
      "outputs": [
        {
          "output_type": "stream",
          "name": "stdout",
          "text": [
            "[[1 2]\n",
            " [3 4]]\n",
            "\n",
            "[[2]\n",
            " [3]]\n",
            "\n",
            "[[-1 -1]\n",
            " [-1 -1]]\n",
            "\n"
          ]
        }
      ],
      "source": [
        "X = np.array([[1,2],[3,4]])\n",
        "z = np.array([[2],[3]])\n",
        "Y = np.array([[-1,-1],[-1,-1]])\n",
        "print(X);print()\n",
        "print(z);print()\n",
        "print(Y);print()"
      ]
    },
    {
      "cell_type": "code",
      "execution_count": 38,
      "metadata": {
        "id": "qGAdOEm9W6cN",
        "outputId": "ab63e947-940a-4bed-fc69-9414ff701514",
        "colab": {
          "base_uri": "https://localhost:8080/"
        }
      },
      "outputs": [
        {
          "output_type": "stream",
          "name": "stdout",
          "text": [
            "[[ 2  4]\n",
            " [ 9 12]]\n",
            "\n",
            "[[-1 -2]\n",
            " [-3 -4]]\n"
          ]
        }
      ],
      "source": [
        "print(str(X*z));print()\n",
        "print(X*Y)"
      ]
    },
    {
      "cell_type": "markdown",
      "metadata": {
        "id": "mJHn623MW6cN"
      },
      "source": [
        "To compute actually matrix/matrix and matrix/vector products, you can use the `dot` operation."
      ]
    },
    {
      "cell_type": "code",
      "execution_count": 39,
      "metadata": {
        "id": "ZpGSPGUcW6cN",
        "outputId": "d5a7a93e-4995-41ec-df5b-b8bb67f77a65",
        "colab": {
          "base_uri": "https://localhost:8080/"
        }
      },
      "outputs": [
        {
          "output_type": "stream",
          "name": "stdout",
          "text": [
            "[[ 8]\n",
            " [18]]\n",
            "\n",
            "[[13]]\n",
            "\n",
            "[[-3 -3]\n",
            " [-7 -7]]\n",
            "\n"
          ]
        }
      ],
      "source": [
        "print(np.dot(X,z));print()\n",
        "print(np.dot(np.transpose(z),z));print()\n",
        "print(np.dot(X,Y));print()"
      ]
    },
    {
      "cell_type": "markdown",
      "source": [
        "The nameing of the `dot` command is unfortunate because it doesn't actually perform a dot product! If you run np.(z,z) you will get an error, even then $\\langle z,z\\rangle$ is a valid linear algebra operation.\n",
        "\n",
        "Fortunately, you can avoid `dot` altogether. A much cleaner approach is to use numpy's `@` operator. This operator works directly on 2D ndarrays with compatible dimensions."
      ],
      "metadata": {
        "id": "cfojXXvGST1Z"
      }
    },
    {
      "cell_type": "code",
      "execution_count": 40,
      "metadata": {
        "id": "1nKwcJciW6cN",
        "outputId": "6c14adbf-a13e-477d-eba9-065e91e2d091",
        "colab": {
          "base_uri": "https://localhost:8080/"
        }
      },
      "outputs": [
        {
          "output_type": "stream",
          "name": "stdout",
          "text": [
            "[[ 8]\n",
            " [18]]\n",
            "\n",
            "[[13]]\n",
            "\n",
            "[[-3 -3]\n",
            " [-7 -7]]\n"
          ]
        }
      ],
      "source": [
        "print(X@z);print()\n",
        "print(np.transpose(z)@z);print()\n",
        "print(X@Y)"
      ]
    },
    {
      "cell_type": "markdown",
      "metadata": {
        "id": "oAtBL6K9W6cN"
      },
      "source": [
        "Note that `@` between a row and column vector computes an outerproduct instead of an inner product."
      ]
    },
    {
      "cell_type": "code",
      "execution_count": 41,
      "metadata": {
        "id": "xLYfwH_dW6cN",
        "outputId": "f5808277-2e78-448b-cc90-2c7a135ec65c",
        "colab": {
          "base_uri": "https://localhost:8080/"
        }
      },
      "outputs": [
        {
          "output_type": "stream",
          "name": "stdout",
          "text": [
            "[[4 6]\n",
            " [6 9]]\n"
          ]
        }
      ],
      "source": [
        "print(z@np.transpose(z))"
      ]
    },
    {
      "cell_type": "markdown",
      "source": [
        "The @ command can be used with vectors that are 1-d not 2-d arrays. For example, the following code is valid. But not the output is a 1-d, not a 2-d array"
      ],
      "metadata": {
        "id": "UHG-cPXBSuyy"
      }
    },
    {
      "cell_type": "code",
      "source": [
        "X = np.array([[1,2],[3,4],[5,6]])\n",
        "z = np.array([2,3])\n",
        "w = np.array([2,3,4])\n",
        "print(X@z)\n",
        "print()\n",
        "print(w@X)"
      ],
      "metadata": {
        "id": "Fmh6IlXCSt7_",
        "outputId": "d1141e43-8153-463b-df88-544b277fb18f",
        "colab": {
          "base_uri": "https://localhost:8080/"
        }
      },
      "execution_count": 42,
      "outputs": [
        {
          "output_type": "stream",
          "name": "stdout",
          "text": [
            "[ 8 18 28]\n",
            "\n",
            "[31 40]\n"
          ]
        }
      ]
    },
    {
      "cell_type": "code",
      "source": [],
      "metadata": {
        "id": "zzw3sQA4AdG0"
      },
      "execution_count": null,
      "outputs": []
    }
  ],
  "metadata": {
    "anaconda-cloud": {},
    "kernelspec": {
      "display_name": "Python 3",
      "language": "python",
      "name": "python3"
    },
    "language_info": {
      "codemirror_mode": {
        "name": "ipython",
        "version": 3
      },
      "file_extension": ".py",
      "mimetype": "text/x-python",
      "name": "python",
      "nbconvert_exporter": "python",
      "pygments_lexer": "ipython3",
      "version": "3.7.4"
    },
    "colab": {
      "provenance": [],
      "include_colab_link": true
    }
  },
  "nbformat": 4,
  "nbformat_minor": 0
}